{
 "cells": [
  {
   "cell_type": "code",
   "execution_count": 1,
   "id": "0d49b4c5-dbf9-4203-bf54-da7f47204a6f",
   "metadata": {},
   "outputs": [],
   "source": [
    "# Import the required libraries\n",
    "\n",
    "import numpy as np\n",
    "import pandas as pd\n",
    "from keras.datasets import mnist\n",
    "from sklearn.ensemble import RandomForestClassifier\n",
    "from sklearn.model_selection import GridSearchCV, train_test_split\n",
    "from sklearn.metrics import accuracy_score\n",
    "import mlflow\n",
    "import mlflow.sklearn"
   ]
  },
  {
   "cell_type": "code",
   "execution_count": 2,
   "id": "2b1cf461-aa6d-4f8c-b0f0-7da0387f7e6d",
   "metadata": {},
   "outputs": [],
   "source": [
    "#!pip install keras\n",
    "#!pip install tensorflow"
   ]
  },
  {
   "cell_type": "code",
   "execution_count": 3,
   "id": "2779fd19-0407-4307-bb69-975d0e302ec2",
   "metadata": {},
   "outputs": [],
   "source": [
    "(x_train, y_train), (x_test, y_test) = mnist.load_data()"
   ]
  },
  {
   "cell_type": "code",
   "execution_count": 4,
   "id": "dc1143f0-9629-476c-95e1-da570bbcaaf8",
   "metadata": {},
   "outputs": [],
   "source": [
    "# Flatten data for RandomForest  (convert 28x28 to 784 features)\n",
    "x_train_flat = x_train.reshape(-1, 784)\n",
    "x_test_flat = x_test.reshape(-1, 784)\n",
    "\n",
    "#Normalize pixel values (0-255) to (0-1)\n",
    "X_train = x_train_flat / 255.0\n",
    "X_test = x_test_flat / 255.0\n"
   ]
  },
  {
   "cell_type": "code",
   "execution_count": 5,
   "id": "2a5d8d13-417d-4b34-9b78-68c35f761a77",
   "metadata": {},
   "outputs": [],
   "source": [
    "## enable autologging\n",
    "mlflow.sklearn.autolog()"
   ]
  },
  {
   "cell_type": "code",
   "execution_count": 6,
   "id": "6c48d8a4-05e9-4615-b158-f96edf811884",
   "metadata": {},
   "outputs": [],
   "source": [
    "# Define hyperparameter grid\n",
    "param_grid = {\n",
    "    'n_estimators': [100, 200, 300],\n",
    "    'max_depth': [10, 20, 30],\n",
    "    'min_samples_split': [2, 5, 10],\n",
    "    'min_samples_leaf': [1, 2, 4]\n",
    "    #'bootstrap': [True, False]\n",
    "}"
   ]
  },
  {
   "cell_type": "code",
   "execution_count": 7,
   "id": "31eb0932-9187-4f8a-ba34-badba1f1b545",
   "metadata": {},
   "outputs": [],
   "source": [
    "# Initialize the Random Forest Classifier\n",
    "rf = RandomForestClassifier(random_state=42)\n",
    "\n",
    "# Set up GridSearchCV (taking the cross validation as cv = 5)\n",
    "grid_search = GridSearchCV(estimator=rf, param_grid=param_grid, cv=5, scoring='accuracy', verbose=1)"
   ]
  },
  {
   "cell_type": "code",
   "execution_count": 12,
   "id": "fa9c1a9c-9c21-405c-a22a-4fcffa1a73e7",
   "metadata": {},
   "outputs": [
    {
     "name": "stdout",
     "output_type": "stream",
     "text": [
      "Fitting 5 folds for each of 81 candidates, totalling 405 fits\n"
     ]
    },
    {
     "name": "stderr",
     "output_type": "stream",
     "text": [
      "C:\\Users\\admin\\anaconda3\\anaconda\\envs\\mlops2\\Lib\\site-packages\\numpy\\ma\\core.py:2846: RuntimeWarning: invalid value encountered in cast\n",
      "  _data = np.array(data, dtype=dtype, copy=copy,\n",
      "2025/02/12 01:47:42 INFO mlflow.sklearn.utils: Logging the 5 best runs, 76 runs will be omitted.\n",
      "2025/02/12 01:47:48 WARNING mlflow.models.model: Model logged without a signature and input example. Please set `input_example` parameter when logging the model to auto infer the model signature.\n"
     ]
    },
    {
     "name": "stdout",
     "output_type": "stream",
     "text": [
      "Best Hyperparameters: {'max_depth': 30, 'min_samples_leaf': 1, 'min_samples_split': 2, 'n_estimators': 300}\n",
      "Best Cross-Validated Accuracy: 0.9679666666666668\n",
      "Test Accuracy: 0.972\n"
     ]
    }
   ],
   "source": [
    "with mlflow.start_run():\n",
    "    # Fit GridSearchCV\n",
    "    grid_search.fit(X_train, y_train)\n",
    "\n",
    "    # Log parameters and metrics\n",
    "    mlflow.log_param(\"param_grid\", param_grid)\n",
    "    mlflow.log_params(grid_search.best_params_)\n",
    "\n",
    "    # Evaluate on test data\n",
    "    y_pred = grid_search.best_estimator_.predict(X_test)\n",
    "    test_accuracy = accuracy_score(y_test, y_pred)\n",
    "\n",
    "    mlflow.log_metric(\"test_accuracy\", test_accuracy)\n",
    "\n",
    "    # Log the best model\n",
    "    mlflow.sklearn.log_model(grid_search.best_estimator_, \"best_random_forest_model\")\n",
    "\n",
    "    # Report results\n",
    "    print(\"Best Hyperparameters:\", grid_search.best_params_)\n",
    "    print(\"Best Cross-Validated Accuracy:\", grid_search.best_score_)\n",
    "    print(\"Test Accuracy:\", test_accuracy)\n",
    "\n",
    "# End MLflow tracking"
   ]
  },
  {
   "cell_type": "code",
   "execution_count": 8,
   "id": "49d84f74-a5ac-4f4e-b451-d94d3c671a2e",
   "metadata": {},
   "outputs": [],
   "source": [
    "# Tracking the url\n",
    "#http://127.0.0.1:5000\n",
    "mlflow.set_tracking_uri(uri=\"http://127.0.0.1:5000\")"
   ]
  },
  {
   "cell_type": "code",
   "execution_count": 9,
   "id": "0a7fb4d1-76af-493c-87f8-c5ca82b9710b",
   "metadata": {},
   "outputs": [
    {
     "data": {
      "text/plain": [
       "<Experiment: artifact_location='mlflow-artifacts:/253364769243853118', creation_time=1739379148662, experiment_id='253364769243853118', last_update_time=1739379148662, lifecycle_stage='active', name='Random Forest Hyperparameter Tuning on mnist', tags={}>"
      ]
     },
     "execution_count": 9,
     "metadata": {},
     "output_type": "execute_result"
    }
   ],
   "source": [
    "# Start MLflow tracking\n",
    "mlflow.set_experiment(\"Random Forest Hyperparameter Tuning on mnist\")"
   ]
  },
  {
   "cell_type": "code",
   "execution_count": null,
   "id": "02c62589-b00c-43c7-b817-4776f6d63999",
   "metadata": {},
   "outputs": [
    {
     "name": "stdout",
     "output_type": "stream",
     "text": [
      "Fitting 5 folds for each of 81 candidates, totalling 405 fits\n"
     ]
    }
   ],
   "source": [
    "with mlflow.start_run():\n",
    "    # Fit GridSearchCV\n",
    "    grid_search.fit(X_train, y_train)\n",
    "\n",
    "    # Log parameters and metrics\n",
    "    mlflow.log_param(\"param_grid\", param_grid)\n",
    "    mlflow.log_params(grid_search.best_params_)\n",
    "\n",
    "    # Evaluate on test data\n",
    "    y_pred = grid_search.best_estimator_.predict(X_test)\n",
    "    test_accuracy = accuracy_score(y_test, y_pred)\n",
    "\n",
    "    mlflow.log_metric(\"test_accuracy\", test_accuracy)\n",
    "\n",
    "    # Log the best model\n",
    "    mlflow.sklearn.log_model(grid_search.best_estimator_, \"best_random_forest_model\")\n",
    "\n",
    "    # Report results\n",
    "    print(\"Best Hyperparameters:\", grid_search.best_params_)\n",
    "    print(\"Best Cross-Validated Accuracy:\", grid_search.best_score_)\n",
    "    print(\"Test Accuracy:\", test_accuracy)\n",
    "\n",
    "# End MLflow tracking"
   ]
  },
  {
   "cell_type": "code",
   "execution_count": null,
   "id": "cac235d4-abe8-4a8c-8519-001ee046e545",
   "metadata": {},
   "outputs": [],
   "source": []
  }
 ],
 "metadata": {
  "kernelspec": {
   "display_name": "Python 3 (ipykernel)",
   "language": "python",
   "name": "python3"
  },
  "language_info": {
   "codemirror_mode": {
    "name": "ipython",
    "version": 3
   },
   "file_extension": ".py",
   "mimetype": "text/x-python",
   "name": "python",
   "nbconvert_exporter": "python",
   "pygments_lexer": "ipython3",
   "version": "3.12.7"
  }
 },
 "nbformat": 4,
 "nbformat_minor": 5
}
